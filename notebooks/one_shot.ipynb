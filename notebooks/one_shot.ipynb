{
 "cells": [
  {
   "cell_type": "code",
   "execution_count": 1,
   "id": "955f6e41",
   "metadata": {},
   "outputs": [
    {
     "name": "stderr",
     "output_type": "stream",
     "text": [
      "2022-05-28 10:35:22.474216: W tensorflow/stream_executor/platform/default/dso_loader.cc:64] Could not load dynamic library 'libcudart.so.11.0'; dlerror: libcudart.so.11.0: cannot open shared object file: No such file or directory\n",
      "2022-05-28 10:35:22.474269: I tensorflow/stream_executor/cuda/cudart_stub.cc:29] Ignore above cudart dlerror if you do not have a GPU set up on your machine.\n"
     ]
    }
   ],
   "source": [
    "import matplotlib.pyplot as plt\n",
    "import numpy as np\n",
    "import random\n",
    "import tensorflow as tf\n",
    "from tensorflow import keras\n",
    "from tensorflow.keras import layers\n",
    "import tensorflow_datasets as tfds"
   ]
  },
  {
   "cell_type": "code",
   "execution_count": 2,
   "id": "b0d06cef",
   "metadata": {},
   "outputs": [],
   "source": [
    "learning_rate = 0.003\n",
    "meta_step_size = 0.25\n",
    "\n",
    "inner_batch_size = 25\n",
    "eval_batch_size = 25\n",
    "\n",
    "meta_iters = 2000\n",
    "eval_iters = 5\n",
    "inner_iters = 4\n",
    "\n",
    "eval_interval = 1\n",
    "train_shots = 20\n",
    "shots = 5\n",
    "classes = 5"
   ]
  },
  {
   "cell_type": "code",
   "execution_count": 31,
   "id": "4db6fc1c",
   "metadata": {},
   "outputs": [
    {
     "data": {
      "text/plain": [
       "[<tf.Tensor: shape=(), dtype=int32, numpy=0>,\n",
       " <tf.Tensor: shape=(), dtype=int32, numpy=1>,\n",
       " <tf.Tensor: shape=(), dtype=int32, numpy=0>,\n",
       " <tf.Tensor: shape=(), dtype=int32, numpy=1>,\n",
       " <tf.Tensor: shape=(), dtype=int32, numpy=1>]"
      ]
     },
     "execution_count": 31,
     "metadata": {},
     "output_type": "execute_result"
    }
   ],
   "source": [
    "random.choices(labels, k=5)"
   ]
  },
  {
   "cell_type": "code",
   "execution_count": 27,
   "id": "771afb4c",
   "metadata": {},
   "outputs": [],
   "source": [
    "class Dataset:\n",
    "    # This class will facilitate the creation of a few-shot dataset\n",
    "    # from the Omniglot dataset that can be sampled from quickly while also\n",
    "    # allowing to create new labels at the same time.\n",
    "    def __init__(self, training):\n",
    "        # Download the tfrecord files containing the omniglot data and convert to a\n",
    "        # dataset.\n",
    "        split = \"train\" if training else \"test\"\n",
    "        ds = tfds.load(\"omniglot\", split=split, as_supervised=True, shuffle_files=False)\n",
    "        # Iterate over the dataset to get each individual image and its class,\n",
    "        # and put that data into a dictionary.\n",
    "        self.data = {}\n",
    "\n",
    "        def extraction(image, label):\n",
    "            # This function will shrink the Omniglot images to the desired size,\n",
    "            # scale pixel values and convert the RGB image to grayscale\n",
    "            image = tf.image.convert_image_dtype(image, tf.float32)\n",
    "            image = tf.image.rgb_to_grayscale(image)\n",
    "            image = tf.image.resize(image, [28, 28])\n",
    "            return image, label\n",
    "\n",
    "        for image, label in ds.map(extraction):\n",
    "            image = image.numpy()\n",
    "            label = str(label.numpy())\n",
    "            if label not in self.data:\n",
    "                self.data[label] = []\n",
    "            self.data[label].append(image)\n",
    "        self.labels = list(self.data.keys())\n",
    "        print(self.labels)\n",
    "\n",
    "    def get_mini_dataset(\n",
    "        self, batch_size, repetitions, shots, num_classes, split=False\n",
    "    ):\n",
    "        temp_labels = np.zeros(shape=(num_classes * shots))\n",
    "        temp_images = np.zeros(shape=(num_classes * shots, 28, 28, 1))\n",
    "        if split:\n",
    "            test_labels = np.zeros(shape=(num_classes))\n",
    "            test_images = np.zeros(shape=(num_classes, 28, 28, 1))\n",
    "\n",
    "        # Get a random subset of labels from the entire label set.\n",
    "        label_subset = random.choices(self.labels, k=num_classes)\n",
    "        for class_idx, class_obj in enumerate(label_subset):\n",
    "            # Use enumerated index value as a temporary label for mini-batch in\n",
    "            # few shot learning.\n",
    "            temp_labels[class_idx * shots : (class_idx + 1) * shots] = class_idx\n",
    "            # If creating a split dataset for testing, select an extra sample from each\n",
    "            # label to create the test dataset.\n",
    "            if split:\n",
    "                test_labels[class_idx] = class_idx\n",
    "                images_to_split = random.choices(\n",
    "                    self.data[label_subset[class_idx]], k=shots + 1\n",
    "                )\n",
    "                test_images[class_idx] = images_to_split[-1]\n",
    "                temp_images[\n",
    "                    class_idx * shots : (class_idx + 1) * shots\n",
    "                ] = images_to_split[:-1]\n",
    "            else:\n",
    "                # For each index in the randomly selected label_subset, sample the\n",
    "                # necessary number of images.\n",
    "                temp_images[\n",
    "                    class_idx * shots : (class_idx + 1) * shots\n",
    "                ] = random.choices(self.data[label_subset[class_idx]], k=shots)\n",
    "\n",
    "        dataset = tf.data.Dataset.from_tensor_slices(\n",
    "            (temp_images.astype(np.float32), temp_labels.astype(np.int32))\n",
    "        )\n",
    "        dataset = dataset.shuffle(100).batch(batch_size).repeat(repetitions)\n",
    "        if split:\n",
    "            return dataset, test_images, test_labels\n",
    "        return dataset\n"
   ]
  },
  {
   "cell_type": "code",
   "execution_count": 28,
   "id": "86812b69",
   "metadata": {},
   "outputs": [
    {
     "name": "stdout",
     "output_type": "stream",
     "text": [
      "['617', '672', '325', '177', '247', '832', '824', '803', '294', '921', '609', '569', '20', '308', '395', '179', '573', '620', '551', '600', '204', '778', '217', '919', '751', '528', '382', '708', '524', '847', '35', '37', '41', '234', '267', '769', '881', '36', '652', '199', '591', '592', '674', '486', '497', '155', '111', '958', '754', '326', '706', '647', '788', '73', '130', '621', '537', '494', '934', '638', '896', '918', '776', '596', '332', '515', '646', '89', '729', '523', '742', '125', '670', '748', '678', '932', '272', '836', '945', '557', '796', '781', '12', '804', '744', '624', '119', '846', '608', '854', '837', '525', '483', '200', '777', '509', '659', '916', '540', '759', '632', '858', '189', '95', '963', '27', '154', '279', '588', '861', '880', '261', '310', '464', '175', '565', '521', '501', '213', '547', '433', '468', '723', '582', '137', '727', '567', '757', '139', '947', '726', '953', '649', '771', '407', '653', '599', '943', '779', '794', '147', '74', '867', '750', '721', '132', '79', '260', '470', '281', '773', '459', '656', '458', '877', '14', '890', '673', '42', '610', '171', '393', '587', '417', '243', '235', '81', '67', '362', '319', '767', '519', '143', '648', '605', '942', '612', '284', '516', '208', '476', '84', '210', '585', '226', '868', '699', '138', '684', '930', '280', '262', '841', '505', '153', '359', '874', '222', '860', '873', '209', '914', '686', '40', '488', '242', '377', '331', '552', '635', '856', '685', '197', '126', '833', '798', '70', '627', '894', '606', '615', '538', '215', '162', '7', '623', '575', '256', '426', '98', '129', '908', '823', '855', '895', '645', '810', '366', '594', '87', '354', '746', '795', '121', '355', '899', '230', '109', '97', '161', '792', '500', '558', '248', '923', '862', '920', '816', '887', '830', '490', '157', '298', '188', '613', '192', '151', '576', '69', '892', '53', '536', '435', '383', '63', '52', '879', '636', '402', '805', '651', '375', '66', '660', '482', '231', '164', '9', '104', '580', '492', '176', '457', '17', '761', '532', '640', '514', '607', '183', '844', '348', '313', '508', '345', '705', '719', '144', '142', '419', '58', '31', '655', '954', '542', '909', '561', '76', '936', '303', '711', '682', '178', '650', '550', '384', '276', '713', '117', '181', '363', '203', '598', '820', '252', '148', '271', '61', '487', '461', '54', '534', '845', '901', '438', '661', '541', '864', '160', '353', '128', '170', '421', '876', '367', '853', '439', '933', '365', '245', '180', '59', '102', '115', '926', '343', '187', '480', '398', '679', '952', '462', '108', '18', '941', '469', '249', '6', '50', '93', '316', '428', '255', '702', '859', '554', '444', '4', '601', '956', '736', '491', '825', '782', '51', '939', '347', '304', '677', '884', '236', '753', '116', '843', '564', '545', '783', '871', '264', '821', '566', '389', '822', '717', '574', '840', '784', '327', '948', '915', '644', '477', '749', '697', '471', '535', '676', '544', '2', '78', '498', '690', '364', '259', '826', '865', '819', '657', '391', '886', '436', '451', '25', '701', '186', '291', '898', '924', '740', '772', '371', '337', '570', '414', '412', '246', '288', '418', '691', '330', '429', '238', '814', '718', '317', '299', '734', '263', '278', '43', '817', '193', '666', '518', '654', '913', '949', '808', '935', '696', '123', '172', '228', '49', '586', '306', '583', '848', '911', '463', '293', '752', '368', '211', '323', '349', '380', '897', '277', '619', '406', '443', '531', '581', '683', '888', '543', '369', '815', '961', '766', '869', '503', '344', '658', '168', '269', '510', '703', '577', '88', '257', '184', '931', '312', '866', '669', '907', '62', '318', '268', '60', '48', '237', '693', '533', '456', '467', '321', '597', '818', '883', '336', '478', '760', '57', '475', '738', '715', '124', '453', '46', '358', '112', '852', '72', '23', '32', '604', '484', '39', '925', '158', '474', '374', '643', '422', '442', '214', '786', '851', '64', '614', '768', '616', '502', '8', '504', '287', '875', '466', '639', '681', '827', '302', '756', '202', '603', '872', '251', '511', '885', '446', '755', '394', '361', '704', '416', '448', '96', '512', '472', '454', '212', '828', '878', '216', '335', '28', '485', '863', '775', '735', '305', '295', '960', '86', '101', '201', '789', '34', '404', '427', '191', '342', '118', '85', '75', '341', '496', '232', '45', '105', '150', '392', '135', '906', '579', '628', '893', '455', '290', '356', '559', '24', '499', '265', '372', '790', '595', '891', '791', '940', '572', '762', '801', '793', '379', '731', '507', '297', '378', '626', '560', '47', '590', '529', '376', '103', '553', '218', '763', '562', '3', '360', '495', '445', '11', '106', '578', '205', '539', '400', '747', '950', '233', '962', '185', '320', '743', '431', '165', '692', '724', '629', '665', '571', '730', '479', '390', '133', '1', '254', '80', '423', '253', '662', '350', '136', '563', '434', '946', '29', '506', '127', '244', '834', '637', '917', '527', '741', '273', '370', '432', '716', '225', '239', '311', '388', '207', '182', '663', '401', '957', '555', '219', '385', '328', '134', '229', '903', '292', '196', '780', '285', '842', '770', '198', '520', '145', '381', '282', '296', '473', '449', '774', '489', '68', '928', '593', '568', '373', '882', '951', '745', '725', '671', '618', '709', '700', '274', '517', '334', '513', '301', '409', '286', '156', '90', '424', '44', '739', '131', '77', '732', '166', '351', '611', '340', '94', '440', '300', '83', '415', '329', '811', '799', '465', '556', '110', '241', '173', '910', '664', '526', '839', '831', '21', '411', '922', '641', '546', '447', '807', '16', '714', '149', '33', '602', '698', '270', '813', '797', '675', '152', '857', '667', '737', '530', '227', '630', '642', '141', '481', '250', '206', '800', '92', '167', '120', '785', '56', '396', '283', '10', '15', '99', '352', '333', '140', '441', '221', '322', '549', '870', '430', '937', '809', '522', '720', '631', '712', '169', '589', '91', '309', '399', '420', '450', '689', '912', '829', '339', '425', '314', '114', '733', '758', '437', '687', '806', '397', '900', '929', '802', '707', '902', '927', '195', '38', '30', '275', '146', '633', '722', '584', '405', '764', '190', '403', '258', '904', '315', '71', '955', '688', '338', '266', '224', '850', '695', '82', '289', '220', '408', '944', '307', '240', '65', '548', '905', '55', '812', '765', '680', '22', '19', '174', '346', '159', '357', '452', '959', '100', '625', '622', '13', '710', '493', '223', '787', '386', '122', '634', '938', '728', '413', '5', '107', '694', '324', '26', '387', '835', '460', '163', '0', '410', '194', '889', '113', '668', '849', '838']\n",
      "['1550', '1175', '1338', '1457', '1123', '1344', '1602', '1162', '1041', '1428', '1059', '1037', '1580', '1432', '1545', '1146', '1369', '1345', '1105', '1364', '1380', '1330', '1585', '1405', '1604', '998', '1368', '1166', '1235', '1603', '1540', '1250', '1421', '1267', '1388', '1284', '1256', '1436', '1342', '1173', '1159', '1444', '1254', '1080', '976', '1034', '1270', '970', '1318', '1089', '1316', '1446', '1262', '1539', '1464', '1016', '1063', '1093', '1298', '1070', '1239', '1168', '1398', '1197', '1169', '1356', '1384', '1289', '1103', '975', '1563', '1544', '1542', '1324', '1258', '993', '1508', '1413', '1274', '1128', '1042', '1536', '1068', '1535', '1408', '1520', '1210', '1601', '1500', '1121', '1485', '1058', '1100', '991', '1449', '990', '1164', '1620', '972', '1530', '1214', '1438', '1028', '1291', '1418', '1610', '1272', '1608', '1590', '1206', '1135', '1460', '1122', '1466', '1039', '1435', '1054', '1525', '1050', '1521', '1129', '1304', '1136', '1514', '1528', '1038', '1565', '1244', '1582', '1216', '1076', '1290', '1378', '1179', '1220', '1003', '1060', '1260', '1085', '1275', '1133', '985', '1387', '1456', '1066', '1373', '1293', '1561', '1571', '1591', '1209', '1305', '1611', '1459', '1020', '1422', '1120', '1224', '1494', '1309', '1595', '1522', '969', '997', '1017', '1013', '1568', '1313', '1355', '1379', '1329', '1447', '1589', '1243', '984', '1362', '1158', '1131', '1183', '1411', '1455', '1349', '1534', '1021', '1504', '1492', '1419', '1295', '1286', '1549', '1126', '1287', '1334', '1292', '1491', '1553', '1375', '1578', '1204', '1154', '1484', '1307', '1310', '1490', '1493', '1458', '1555', '1202', '1238', '1073', '1566', '1577', '1529', '1586', '1341', '1118', '1228', '1265', '1412', '1300', '1283', '1007', '1170', '1064', '1096', '1407', '1142', '1207', '1395', '1035', '1095', '1110', '1622', '1268', '1097', '1333', '1497', '1263', '1401', '1554', '1468', '1002', '1006', '1188', '1319', '1306', '1469', '1605', '1502', '1213', '1087', '1218', '1621', '1269', '1507', '1503', '1433', '1276', '1234', '1257', '1399', '1211', '1557', '1546', '1512', '1199', '1072', '1489', '1506', '1472', '1409', '983', '1278', '1026', '1029', '1056', '1351', '1511', '1251', '1303', '1022', '1531', '1226', '1461', '1397', '973', '1477', '1537', '1083', '1348', '1453', '971', '1332', '1187', '1483', '1416', '1574', '1495', '1572', '1336', '1425', '1215', '1000', '1393', '1410', '1196', '1057', '1011', '1463', '1424', '1614', '968', '1609', '1237', '1077', '1198', '1597', '1462', '1607', '1047', '1527', '1053', '1517', '1386', '1383', '1242', '1101', '1247', '1584', '1117', '1594', '1223', '1322', '1111', '1465', '1024', '1115', '1583', '1015', '1285', '1487', '1430', '1069', '1606', '1259', '1008', '1474', '1443', '1389', '1426', '1394', '1467', '1505', '1032', '1043', '1225', '1134', '1593', '981', '1480', '1579', '1045', '1012', '1296', '1071', '979', '1174', '1452', '1221', '1264', '1445', '1350', '1040', '1048', '1323', '1616', '1353', '1596', '1217', '1189', '1326', '1488', '1051', '1246', '1617', '1255', '1360', '1078', '1562', '1560', '1567', '1014', '1473', '1172', '1180', '1113', '1086', '1392', '1600', '1144', '1062', '1524', '1619', '1417', '1249', '974', '1277', '1184', '1576', '1366', '995', '1371', '1311', '1499', '1613', '1279', '1359', '1551', '1599', '964', '977', '1509', '1440', '1282', '1575', '1515', '966', '1297', '1381', '1099', '1331', '1161', '1533', '1112', '1415', '1280', '1519', '967', '1391', '1193', '1253', '1044', '1558', '1320', '1301', '1160', '1573', '1339', '1181', '1145', '1018', '1406', '1302', '1049', '1252', '1140', '1025', '1177', '1618', '1347', '1479', '1516', '1157', '1079', '1403', '1152', '1376', '1513', '1442', '978', '1203', '1030', '1201', '996', '1538', '1010', '1036', '1615', '1219', '1486', '1230', '1361', '1147', '1374', '1396', '1526', '1377', '1340', '1227', '1273', '1592', '1271', '1240', '1148', '1496', '1163', '1581', '1116', '1434', '1414', '1138', '1352', '1137', '1119', '1570', '1191', '1061', '980', '1107', '1001', '1321', '1404', '1471', '1153', '1588', '1308', '1354', '1130', '1372', '1357', '1084', '1088', '1150', '1423', '1143', '1448', '1222', '1470', '1439', '1543', '1266', '1081', '1475', '1437', '986', '1031', '1245', '1346', '1429', '1261', '1094', '1547', '1328', '1236', '1232', '1314', '987', '1090', '1454', '1065', '1098', '999', '1482', '1343', '1367', '1451', '1556', '1569', '1358', '1102', '1315', '1337', '1248', '1165', '1124', '1325', '1587', '1114', '1402', '1335', '1612', '1481', '1212', '1598', '1231', '1382', '1281', '1510', '1190', '1074', '1431', '994', '1141', '1194', '1552', '1370', '1033', '1441', '1476', '1046', '1312', '1548', '1104', '1241', '1156', '1559', '1075', '992', '1005', '1109', '1125', '1299', '1108', '1009', '965', '1004', '1139', '1167', '1518', '1151', '1327', '1055', '1171', '1427', '1067', '1363', '1186', '1176', '1149', '1400', '1420', '1229', '1091', '1185', '1019', '1390', '1182', '1127', '1205', '1523', '1365', '1178', '982', '1294', '1317', '1498', '1200', '1092', '1288', '1192', '1195', '1541', '1132', '1208', '1450', '1155', '1233', '1385', '1532', '1501', '1082', '989', '1106', '1564', '1052', '1027', '988', '1023', '1478']\n"
     ]
    }
   ],
   "source": [
    "import urllib3\n",
    "\n",
    "urllib3.disable_warnings()  # Disable SSL warnings that may happen during download.\n",
    "train_dataset = Dataset(training=True)\n",
    "test_dataset = Dataset(training=False)"
   ]
  },
  {
   "cell_type": "code",
   "execution_count": 8,
   "id": "8fb4a159",
   "metadata": {},
   "outputs": [
    {
     "data": {
      "image/png": "[encoded data removed]",
      "text/plain": [
       "<Figure size 1440x1440 with 25 Axes>"
      ]
     },
     "metadata": {
      "needs_background": "light"
     },
     "output_type": "display_data"
    }
   ],
   "source": [
    "_, axarr = plt.subplots(nrows=5, ncols=5, figsize=(20, 20))\n",
    "\n",
    "sample_keys = list(train_dataset.data.keys())\n",
    "\n",
    "for a in range(5):\n",
    "    for b in range(5):\n",
    "        temp_image = train_dataset.data[sample_keys[a]][b]\n",
    "        temp_image = np.stack((temp_image[:, :, 0],) * 3, axis=2)\n",
    "        temp_image *= 255\n",
    "        temp_image = np.clip(temp_image, 0, 255).astype(\"uint8\")\n",
    "        if b == 2:\n",
    "            axarr[a, b].set_title(\"Class : \" + sample_keys[a])\n",
    "        axarr[a, b].imshow(temp_image, cmap=\"gray\")\n",
    "        axarr[a, b].xaxis.set_visible(False)\n",
    "        axarr[a, b].yaxis.set_visible(False)\n",
    "plt.show()"
   ]
  },
  {
   "cell_type": "code",
   "execution_count": 9,
   "id": "186cfa3c",
   "metadata": {},
   "outputs": [],
   "source": [
    "def conv_bn(x):\n",
    "    x = layers.Conv2D(filters=64, kernel_size=3, strides=2, padding=\"same\")(x)\n",
    "    x = layers.BatchNormalization()(x)\n",
    "    return layers.ReLU()(x)\n",
    "\n",
    "\n",
    "inputs = layers.Input(shape=(28, 28, 1))\n",
    "x = conv_bn(inputs)\n",
    "x = conv_bn(x)\n",
    "x = conv_bn(x)\n",
    "x = conv_bn(x)\n",
    "x = layers.Flatten()(x)\n",
    "outputs = layers.Dense(classes, activation=\"softmax\")(x)\n",
    "model = keras.Model(inputs=inputs, outputs=outputs)\n",
    "model.compile()\n",
    "optimizer = keras.optimizers.SGD(learning_rate=learning_rate)\n"
   ]
  },
  {
   "cell_type": "code",
   "execution_count": 22,
   "id": "10010269",
   "metadata": {},
   "outputs": [
    {
     "name": "stdout",
     "output_type": "stream",
     "text": [
      "tf.Tensor([1 1 0 2 3 0 2 4 0 4 2 3 1 3 1 1 4 4 4 1 3 1 1 2 3], shape=(25,), dtype=int32)\n",
      "1/1 [==============================] - 0s 11ms/step\n",
      "1/1 [==============================] - 0s 12ms/step\n",
      "batch 0: train=1.000000 test=0.600000\n",
      "tf.Tensor([4 2 2 2 3 0 4 3 0 2 1 0 0 0 1 3 1 0 2 1 0 4 4 2 2], shape=(25,), dtype=int32)\n",
      "1/1 [==============================] - 0s 12ms/step\n",
      "1/1 [==============================] - 0s 11ms/step\n",
      "tf.Tensor([4 2 4 4 2 3 4 3 2 1 1 1 1 2 0 0 3 4 0 1 3 2 4 4 4], shape=(25,), dtype=int32)\n",
      "1/1 [==============================] - 0s 11ms/step\n",
      "1/1 [==============================] - 0s 11ms/step\n",
      "tf.Tensor([3 1 3 1 4 0 3 1 0 3 2 0 0 3 0 3 2 3 1 1 2 2 0 0 4], shape=(25,), dtype=int32)\n",
      "1/1 [==============================] - 0s 12ms/step\n",
      "1/1 [==============================] - 0s 12ms/step\n",
      "tf.Tensor([2 0 2 3 4 3 4 0 1 0 4 0 4 0 4 2 4 3 4 4 1 2 2 0 1], shape=(25,), dtype=int32)\n",
      "1/1 [==============================] - 0s 13ms/step\n",
      "1/1 [==============================] - 0s 12ms/step\n",
      "tf.Tensor([0 1 4 2 4 3 0 3 4 1 3 4 0 0 0 1 3 2 0 0 1 1 3 0 4], shape=(25,), dtype=int32)\n",
      "1/1 [==============================] - 0s 13ms/step\n",
      "1/1 [==============================] - 0s 11ms/step\n",
      "tf.Tensor([4 4 2 4 2 3 1 3 0 1 0 4 0 4 0 0 4 0 1 4 0 4 2 4 0], shape=(25,), dtype=int32)\n",
      "1/1 [==============================] - 0s 12ms/step\n",
      "1/1 [==============================] - 0s 12ms/step\n",
      "tf.Tensor([2 4 0 1 0 4 4 4 2 0 1 3 4 0 3 2 2 4 0 1 3 4 0 1 3], shape=(25,), dtype=int32)\n",
      "1/1 [==============================] - 0s 12ms/step\n",
      "1/1 [==============================] - 0s 11ms/step\n",
      "tf.Tensor([1 0 2 1 3 1 2 0 3 3 3 3 4 1 3 2 4 2 0 3 2 2 2 1 4], shape=(25,), dtype=int32)\n",
      "1/1 [==============================] - 0s 13ms/step\n",
      "1/1 [==============================] - 0s 11ms/step\n",
      "tf.Tensor([0 1 3 0 1 4 0 2 0 0 1 2 0 1 4 3 4 2 4 0 3 2 3 2 0], shape=(25,), dtype=int32)\n",
      "1/1 [==============================] - 0s 11ms/step\n",
      "1/1 [==============================] - 0s 11ms/step\n",
      "tf.Tensor([0 0 2 0 4 3 3 1 1 0 4 2 4 4 4 4 3 0 4 1 1 0 1 1 0], shape=(25,), dtype=int32)\n",
      "1/1 [==============================] - 0s 12ms/step\n",
      "1/1 [==============================] - 0s 12ms/step\n",
      "tf.Tensor([0 4 1 0 3 4 0 1 3 2 4 2 1 1 2 4 1 2 4 3 2 1 3 2 0], shape=(25,), dtype=int32)\n",
      "1/1 [==============================] - 0s 12ms/step\n",
      "1/1 [==============================] - 0s 11ms/step\n",
      "tf.Tensor([0 4 2 1 1 1 3 1 2 2 2 3 4 4 0 3 0 2 4 2 2 4 2 4 0], shape=(25,), dtype=int32)\n",
      "1/1 [==============================] - 0s 12ms/step\n",
      "1/1 [==============================] - 0s 13ms/step\n",
      "tf.Tensor([1 4 1 4 3 1 0 3 0 4 1 4 2 4 2 0 2 4 1 0 2 3 4 3 0], shape=(25,), dtype=int32)\n",
      "1/1 [==============================] - 0s 12ms/step\n",
      "1/1 [==============================] - 0s 11ms/step\n",
      "tf.Tensor([0 1 3 3 3 4 1 1 4 2 1 2 0 3 3 4 3 1 3 2 2 1 1 3 2], shape=(25,), dtype=int32)\n",
      "1/1 [==============================] - 0s 12ms/step\n",
      "1/1 [==============================] - 0s 12ms/step\n",
      "tf.Tensor([3 1 1 1 3 2 3 4 0 3 0 3 3 4 0 1 2 0 4 3 3 0 2 0 2], shape=(25,), dtype=int32)\n",
      "1/1 [==============================] - 0s 13ms/step\n",
      "1/1 [==============================] - 0s 12ms/step\n",
      "tf.Tensor([2 3 2 1 1 4 1 1 3 2 3 1 2 4 2 1 0 4 3 3 3 3 1 0 1], shape=(25,), dtype=int32)\n",
      "1/1 [==============================] - 0s 12ms/step\n",
      "1/1 [==============================] - 0s 11ms/step\n",
      "tf.Tensor([3 4 4 4 2 4 0 1 0 4 3 0 3 3 4 3 0 2 3 4 1 0 1 2 2], shape=(25,), dtype=int32)\n",
      "1/1 [==============================] - 0s 12ms/step\n",
      "1/1 [==============================] - 0s 11ms/step\n",
      "tf.Tensor([4 3 0 4 0 4 1 2 3 2 1 3 1 4 1 3 4 4 3 2 4 2 0 1 2], shape=(25,), dtype=int32)\n",
      "1/1 [==============================] - 0s 12ms/step\n",
      "1/1 [==============================] - 0s 12ms/step\n",
      "tf.Tensor([2 2 3 4 1 4 3 2 2 1 4 0 4 4 1 4 3 0 4 3 0 0 3 1 2], shape=(25,), dtype=int32)\n",
      "1/1 [==============================] - 0s 11ms/step\n",
      "1/1 [==============================] - 0s 11ms/step\n",
      "tf.Tensor([1 2 3 1 2 3 2 1 3 4 0 0 4 3 1 2 1 2 3 0 4 0 0 0 4], shape=(25,), dtype=int32)\n",
      "1/1 [==============================] - 0s 11ms/step\n",
      "1/1 [==============================] - 0s 11ms/step\n",
      "tf.Tensor([2 0 4 0 4 2 1 1 3 2 2 2 4 1 0 2 0 4 1 4 2 3 4 3 0], shape=(25,), dtype=int32)\n",
      "1/1 [==============================] - 0s 11ms/step\n",
      "1/1 [==============================] - 0s 11ms/step\n",
      "tf.Tensor([4 3 2 2 3 2 1 0 1 3 3 2 3 4 1 2 4 4 3 3 2 1 1 3 3], shape=(25,), dtype=int32)\n",
      "1/1 [==============================] - 0s 12ms/step\n",
      "1/1 [==============================] - 0s 11ms/step\n",
      "tf.Tensor([1 3 2 3 2 0 3 2 3 4 4 2 2 0 0 1 2 4 4 3 0 3 1 4 1], shape=(25,), dtype=int32)\n",
      "1/1 [==============================] - 0s 12ms/step\n",
      "1/1 [==============================] - 0s 11ms/step\n",
      "tf.Tensor([3 3 2 2 2 3 2 1 4 1 3 3 0 3 1 2 4 2 3 4 1 2 2 1 2], shape=(25,), dtype=int32)\n",
      "1/1 [==============================] - 0s 12ms/step\n",
      "1/1 [==============================] - 0s 11ms/step\n",
      "tf.Tensor([0 0 1 2 4 3 1 2 4 3 1 0 3 2 3 2 2 0 1 2 2 3 1 0 1], shape=(25,), dtype=int32)\n",
      "1/1 [==============================] - 0s 12ms/step\n",
      "1/1 [==============================] - 0s 11ms/step\n",
      "tf.Tensor([0 3 0 3 2 1 2 0 2 4 4 1 0 3 1 2 4 0 1 2 4 4 2 2 4], shape=(25,), dtype=int32)\n",
      "1/1 [==============================] - 0s 12ms/step\n",
      "1/1 [==============================] - 0s 11ms/step\n",
      "tf.Tensor([1 4 1 3 2 2 0 1 1 2 4 0 4 1 2 3 2 3 4 4 4 2 3 4 3], shape=(25,), dtype=int32)\n",
      "1/1 [==============================] - 0s 12ms/step\n",
      "1/1 [==============================] - 0s 11ms/step\n",
      "tf.Tensor([1 4 2 2 1 4 0 1 1 0 2 0 4 0 3 4 4 2 2 4 1 4 1 1 4], shape=(25,), dtype=int32)\n",
      "1/1 [==============================] - 0s 12ms/step\n",
      "1/1 [==============================] - 0s 11ms/step\n",
      "tf.Tensor([2 0 0 4 2 3 1 2 2 2 4 0 1 3 0 1 2 0 1 4 4 1 2 4 2], shape=(25,), dtype=int32)\n",
      "1/1 [==============================] - 0s 12ms/step\n",
      "1/1 [==============================] - 0s 11ms/step\n",
      "tf.Tensor([3 3 1 3 3 0 2 1 4 2 0 3 2 0 2 2 0 3 0 1 3 2 2 3 3], shape=(25,), dtype=int32)\n",
      "1/1 [==============================] - 0s 13ms/step\n",
      "1/1 [==============================] - 0s 12ms/step\n",
      "tf.Tensor([3 3 4 3 1 2 1 1 2 2 3 3 1 4 4 3 1 1 1 4 1 2 2 4 0], shape=(25,), dtype=int32)\n",
      "1/1 [==============================] - 0s 13ms/step\n",
      "1/1 [==============================] - 0s 14ms/step\n",
      "tf.Tensor([4 3 1 4 2 0 1 1 3 4 1 3 0 0 1 0 2 3 0 0 4 4 2 3 0], shape=(25,), dtype=int32)\n",
      "1/1 [==============================] - 0s 12ms/step\n",
      "1/1 [==============================] - 0s 11ms/step\n",
      "tf.Tensor([1 0 0 0 2 3 0 1 1 2 0 3 3 0 2 4 2 0 3 0 3 4 1 0 4], shape=(25,), dtype=int32)\n",
      "1/1 [==============================] - 0s 12ms/step\n",
      "1/1 [==============================] - 0s 11ms/step\n",
      "tf.Tensor([1 2 2 2 0 3 3 1 1 3 0 2 3 4 0 3 0 2 3 2 0 3 3 4 1], shape=(25,), dtype=int32)\n",
      "1/1 [==============================] - 0s 13ms/step\n",
      "1/1 [==============================] - 0s 12ms/step\n",
      "tf.Tensor([4 3 0 1 3 4 2 1 1 4 4 2 3 4 1 0 3 3 2 3 2 1 0 2 0], shape=(25,), dtype=int32)\n",
      "1/1 [==============================] - 0s 12ms/step\n",
      "1/1 [==============================] - 0s 11ms/step\n",
      "tf.Tensor([3 3 0 2 1 4 2 1 3 0 0 0 2 1 1 3 4 4 0 2 1 3 4 2 3], shape=(25,), dtype=int32)\n",
      "1/1 [==============================] - 0s 15ms/step\n",
      "1/1 [==============================] - 0s 12ms/step\n",
      "tf.Tensor([4 3 2 2 3 3 1 1 2 0 1 1 0 0 2 4 3 0 3 2 3 4 4 2 3], shape=(25,), dtype=int32)\n",
      "1/1 [==============================] - 0s 12ms/step\n",
      "1/1 [==============================] - 0s 12ms/step\n",
      "tf.Tensor([3 1 0 4 3 3 0 3 2 2 3 2 0 2 3 4 1 1 0 1 3 0 4 0 4], shape=(25,), dtype=int32)\n",
      "1/1 [==============================] - 0s 12ms/step\n",
      "1/1 [==============================] - 0s 11ms/step\n",
      "tf.Tensor([3 3 2 0 0 3 2 3 3 1 0 2 4 0 0 0 2 3 0 4 4 0 1 2 0], shape=(25,), dtype=int32)\n",
      "1/1 [==============================] - 0s 12ms/step\n"
     ]
    },
    {
     "ename": "KeyboardInterrupt",
     "evalue": "",
     "output_type": "error",
     "traceback": [
      "\u001b[0;31m---------------------------------------------------------------------------\u001b[0m",
      "\u001b[0;31mKeyboardInterrupt\u001b[0m                         Traceback (most recent call last)",
      "Input \u001b[0;32mIn [22]\u001b[0m, in \u001b[0;36m<cell line: 3>\u001b[0;34m()\u001b[0m\n\u001b[1;32m     41\u001b[0m         loss \u001b[38;5;241m=\u001b[39m keras\u001b[38;5;241m.\u001b[39mlosses\u001b[38;5;241m.\u001b[39msparse_categorical_crossentropy(labels, preds)\n\u001b[1;32m     42\u001b[0m     grads \u001b[38;5;241m=\u001b[39m tape\u001b[38;5;241m.\u001b[39mgradient(loss, model\u001b[38;5;241m.\u001b[39mtrainable_weights)\n\u001b[0;32m---> 43\u001b[0m     \u001b[43moptimizer\u001b[49m\u001b[38;5;241;43m.\u001b[39;49m\u001b[43mapply_gradients\u001b[49m\u001b[43m(\u001b[49m\u001b[38;5;28;43mzip\u001b[39;49m\u001b[43m(\u001b[49m\u001b[43mgrads\u001b[49m\u001b[43m,\u001b[49m\u001b[43m \u001b[49m\u001b[43mmodel\u001b[49m\u001b[38;5;241;43m.\u001b[39;49m\u001b[43mtrainable_weights\u001b[49m\u001b[43m)\u001b[49m\u001b[43m)\u001b[49m\n\u001b[1;32m     44\u001b[0m test_preds \u001b[38;5;241m=\u001b[39m model\u001b[38;5;241m.\u001b[39mpredict(test_images)\n\u001b[1;32m     45\u001b[0m test_preds \u001b[38;5;241m=\u001b[39m tf\u001b[38;5;241m.\u001b[39margmax(test_preds)\u001b[38;5;241m.\u001b[39mnumpy()\n",
      "File \u001b[0;32m~/miniconda3/envs/model_inversion/lib/python3.9/site-packages/keras/optimizers/optimizer_v2/optimizer_v2.py:678\u001b[0m, in \u001b[0;36mOptimizerV2.apply_gradients\u001b[0;34m(self, grads_and_vars, name, experimental_aggregate_gradients)\u001b[0m\n\u001b[1;32m    675\u001b[0m   grads_and_vars \u001b[38;5;241m=\u001b[39m \u001b[38;5;28mself\u001b[39m\u001b[38;5;241m.\u001b[39m_aggregate_gradients(grads_and_vars)\n\u001b[1;32m    676\u001b[0m grads_and_vars \u001b[38;5;241m=\u001b[39m \u001b[38;5;28mself\u001b[39m\u001b[38;5;241m.\u001b[39m_transform_gradients(grads_and_vars)\n\u001b[0;32m--> 678\u001b[0m \u001b[38;5;28;01mreturn\u001b[39;00m \u001b[43mtf\u001b[49m\u001b[38;5;241;43m.\u001b[39;49m\u001b[43m__internal__\u001b[49m\u001b[38;5;241;43m.\u001b[39;49m\u001b[43mdistribute\u001b[49m\u001b[38;5;241;43m.\u001b[39;49m\u001b[43minterim\u001b[49m\u001b[38;5;241;43m.\u001b[39;49m\u001b[43mmaybe_merge_call\u001b[49m\u001b[43m(\u001b[49m\n\u001b[1;32m    679\u001b[0m \u001b[43m    \u001b[49m\u001b[43mfunctools\u001b[49m\u001b[38;5;241;43m.\u001b[39;49m\u001b[43mpartial\u001b[49m\u001b[43m(\u001b[49m\u001b[38;5;28;43mself\u001b[39;49m\u001b[38;5;241;43m.\u001b[39;49m\u001b[43m_distributed_apply\u001b[49m\u001b[43m,\u001b[49m\u001b[43m \u001b[49m\u001b[43mapply_state\u001b[49m\u001b[38;5;241;43m=\u001b[39;49m\u001b[43mapply_state\u001b[49m\u001b[43m)\u001b[49m\u001b[43m,\u001b[49m\n\u001b[1;32m    680\u001b[0m \u001b[43m    \u001b[49m\u001b[43mstrategy\u001b[49m\u001b[43m,\u001b[49m\n\u001b[1;32m    681\u001b[0m \u001b[43m    \u001b[49m\u001b[43mgrads_and_vars\u001b[49m\u001b[43m,\u001b[49m\n\u001b[1;32m    682\u001b[0m \u001b[43m    \u001b[49m\u001b[43mname\u001b[49m\u001b[38;5;241;43m=\u001b[39;49m\u001b[43mname\u001b[49m\u001b[43m)\u001b[49m\n",
      "File \u001b[0;32m~/miniconda3/envs/model_inversion/lib/python3.9/site-packages/tensorflow/python/distribute/merge_call_interim.py:51\u001b[0m, in \u001b[0;36mmaybe_merge_call\u001b[0;34m(fn, strategy, *args, **kwargs)\u001b[0m\n\u001b[1;32m     31\u001b[0m \u001b[38;5;124;03m\"\"\"Maybe invoke `fn` via `merge_call` which may or may not be fulfilled.\u001b[39;00m\n\u001b[1;32m     32\u001b[0m \n\u001b[1;32m     33\u001b[0m \u001b[38;5;124;03mThe caller of this utility function requests to invoke `fn` via `merge_call`\u001b[39;00m\n\u001b[0;32m   (...)\u001b[0m\n\u001b[1;32m     48\u001b[0m \u001b[38;5;124;03m  The return value of the `fn` call.\u001b[39;00m\n\u001b[1;32m     49\u001b[0m \u001b[38;5;124;03m\"\"\"\u001b[39;00m\n\u001b[1;32m     50\u001b[0m \u001b[38;5;28;01mif\u001b[39;00m strategy_supports_no_merge_call():\n\u001b[0;32m---> 51\u001b[0m   \u001b[38;5;28;01mreturn\u001b[39;00m \u001b[43mfn\u001b[49m\u001b[43m(\u001b[49m\u001b[43mstrategy\u001b[49m\u001b[43m,\u001b[49m\u001b[43m \u001b[49m\u001b[38;5;241;43m*\u001b[39;49m\u001b[43margs\u001b[49m\u001b[43m,\u001b[49m\u001b[43m \u001b[49m\u001b[38;5;241;43m*\u001b[39;49m\u001b[38;5;241;43m*\u001b[39;49m\u001b[43mkwargs\u001b[49m\u001b[43m)\u001b[49m\n\u001b[1;32m     52\u001b[0m \u001b[38;5;28;01melse\u001b[39;00m:\n\u001b[1;32m     53\u001b[0m   \u001b[38;5;28;01mreturn\u001b[39;00m distribution_strategy_context\u001b[38;5;241m.\u001b[39mget_replica_context()\u001b[38;5;241m.\u001b[39mmerge_call(\n\u001b[1;32m     54\u001b[0m       fn, args\u001b[38;5;241m=\u001b[39margs, kwargs\u001b[38;5;241m=\u001b[39mkwargs)\n",
      "File \u001b[0;32m~/miniconda3/envs/model_inversion/lib/python3.9/site-packages/keras/optimizers/optimizer_v2/optimizer_v2.py:715\u001b[0m, in \u001b[0;36mOptimizerV2._distributed_apply\u001b[0;34m(self, distribution, grads_and_vars, apply_state, name)\u001b[0m\n\u001b[1;32m    713\u001b[0m eagerly_outside_functions \u001b[38;5;241m=\u001b[39m tf\u001b[38;5;241m.\u001b[39mcompat\u001b[38;5;241m.\u001b[39mv1\u001b[38;5;241m.\u001b[39mexecuting_eagerly_outside_functions()\n\u001b[1;32m    714\u001b[0m update_ops \u001b[38;5;241m=\u001b[39m []\n\u001b[0;32m--> 715\u001b[0m \u001b[38;5;28;01mwith\u001b[39;00m name_scope_only_in_function_or_graph(name \u001b[38;5;129;01mor\u001b[39;00m \u001b[38;5;28mself\u001b[39m\u001b[38;5;241m.\u001b[39m_name):\n\u001b[1;32m    716\u001b[0m   \u001b[38;5;28;01mfor\u001b[39;00m grad, var \u001b[38;5;129;01min\u001b[39;00m grads_and_vars:\n\u001b[1;32m    717\u001b[0m     \u001b[38;5;66;03m# Colocate the update with variables to avoid unnecessary communication\u001b[39;00m\n\u001b[1;32m    718\u001b[0m     \u001b[38;5;66;03m# delays. See b/136304694.\u001b[39;00m\n\u001b[1;32m    719\u001b[0m     \u001b[38;5;28;01mwith\u001b[39;00m distribution\u001b[38;5;241m.\u001b[39mextended\u001b[38;5;241m.\u001b[39mcolocate_vars_with(var):\n",
      "File \u001b[0;32m~/miniconda3/envs/model_inversion/lib/python3.9/site-packages/keras/optimizers/optimizer_v2/optimizer_v2.py:70\u001b[0m, in \u001b[0;36mNullContextmanager.__enter__\u001b[0;34m(self)\u001b[0m\n\u001b[1;32m     67\u001b[0m \u001b[38;5;28;01mdef\u001b[39;00m \u001b[38;5;21m__init__\u001b[39m(\u001b[38;5;28mself\u001b[39m, \u001b[38;5;241m*\u001b[39margs, \u001b[38;5;241m*\u001b[39m\u001b[38;5;241m*\u001b[39mkwargs):\n\u001b[1;32m     68\u001b[0m   \u001b[38;5;28;01mpass\u001b[39;00m\n\u001b[0;32m---> 70\u001b[0m \u001b[38;5;28;01mdef\u001b[39;00m \u001b[38;5;21m__enter__\u001b[39m(\u001b[38;5;28mself\u001b[39m):\n\u001b[1;32m     71\u001b[0m   \u001b[38;5;28;01mpass\u001b[39;00m\n\u001b[1;32m     73\u001b[0m \u001b[38;5;28;01mdef\u001b[39;00m \u001b[38;5;21m__exit__\u001b[39m(\u001b[38;5;28mself\u001b[39m, type_arg, value_arg, traceback_arg):\n",
      "\u001b[0;31mKeyboardInterrupt\u001b[0m: "
     ]
    }
   ],
   "source": [
    "training = []\n",
    "testing = []\n",
    "for meta_iter in range(meta_iters):\n",
    "    frac_done = meta_iter / meta_iters\n",
    "    cur_meta_step_size = (1 - frac_done) * meta_step_size\n",
    "    # Temporarily save the weights from the model.\n",
    "    old_vars = model.get_weights()\n",
    "    # Get a sample from the full dataset.\n",
    "    mini_dataset = train_dataset.get_mini_dataset(\n",
    "        inner_batch_size, inner_iters, train_shots, classes\n",
    "    )\n",
    "    for images, labels in mini_dataset:\n",
    "        print(labels)\n",
    "        break\n",
    "        with tf.GradientTape() as tape:\n",
    "            preds = model(images)\n",
    "            loss = keras.losses.sparse_categorical_crossentropy(labels, preds)\n",
    "        grads = tape.gradient(loss, model.trainable_weights)\n",
    "        optimizer.apply_gradients(zip(grads, model.trainable_weights))\n",
    "    new_vars = model.get_weights()\n",
    "    # Perform SGD for the meta step.\n",
    "    for var in range(len(new_vars)):\n",
    "        new_vars[var] = old_vars[var] + (\n",
    "            (new_vars[var] - old_vars[var]) * cur_meta_step_size\n",
    "        )\n",
    "    # After the meta-learning step, reload the newly-trained weights into the model.\n",
    "    model.set_weights(new_vars)\n",
    "    # Evaluation loop\n",
    "    if meta_iter % eval_interval == 0:\n",
    "        accuracies = []\n",
    "        for dataset in (train_dataset, test_dataset):\n",
    "            # Sample a mini dataset from the full dataset.\n",
    "            train_set, test_images, test_labels = dataset.get_mini_dataset(\n",
    "                eval_batch_size, eval_iters, shots, classes, split=True\n",
    "            )\n",
    "            old_vars = model.get_weights()\n",
    "            # Train on the samples and get the resulting accuracies.\n",
    "            for images, labels in train_set:\n",
    "                with tf.GradientTape() as tape:\n",
    "                    preds = model(images)\n",
    "                    loss = keras.losses.sparse_categorical_crossentropy(labels, preds)\n",
    "                grads = tape.gradient(loss, model.trainable_weights)\n",
    "                optimizer.apply_gradients(zip(grads, model.trainable_weights))\n",
    "            test_preds = model.predict(test_images)\n",
    "            test_preds = tf.argmax(test_preds).numpy()\n",
    "            num_correct = (test_preds == test_labels).sum()\n",
    "            # Reset the weights after getting the evaluation accuracies.\n",
    "            model.set_weights(old_vars)\n",
    "            accuracies.append(num_correct / classes)\n",
    "        training.append(accuracies[0])\n",
    "        testing.append(accuracies[1])\n",
    "        if meta_iter % 100 == 0:\n",
    "            print(\n",
    "                \"batch %d: train=%f test=%f\" % (meta_iter, accuracies[0], accuracies[1])\n",
    "            )"
   ]
  },
  {
   "cell_type": "code",
   "execution_count": 13,
   "id": "4beea1d1",
   "metadata": {},
   "outputs": [
    {
     "data": {
      "text/plain": [
       "<PrefetchDataset element_spec=(TensorSpec(shape=(105, 105, 3), dtype=tf.uint8, name=None), TensorSpec(shape=(), dtype=tf.int64, name=None))>"
      ]
     },
     "execution_count": 13,
     "metadata": {},
     "output_type": "execute_result"
    }
   ],
   "source": [
    "tfds.load(\"omniglot\", split=\"small2\", as_supervised=True, shuffle_files=False)"
   ]
  },
  {
   "cell_type": "code",
   "execution_count": 14,
   "id": "87bf6c8e",
   "metadata": {},
   "outputs": [],
   "source": [
    "for images, labels in mini_dataset:\n",
    "    break"
   ]
  },
  {
   "cell_type": "code",
   "execution_count": 15,
   "id": "c165f9d9",
   "metadata": {},
   "outputs": [
    {
     "data": {
      "text/plain": [
       "TensorShape([25, 28, 28, 1])"
      ]
     },
     "execution_count": 15,
     "metadata": {},
     "output_type": "execute_result"
    }
   ],
   "source": [
    "images.shape"
   ]
  },
  {
   "cell_type": "code",
   "execution_count": 16,
   "id": "4c7c2dca",
   "metadata": {},
   "outputs": [
    {
     "data": {
      "text/plain": [
       "TensorShape([25])"
      ]
     },
     "execution_count": 16,
     "metadata": {},
     "output_type": "execute_result"
    }
   ],
   "source": [
    "labels.shape"
   ]
  },
  {
   "cell_type": "code",
   "execution_count": 17,
   "id": "b94f0cbc",
   "metadata": {},
   "outputs": [],
   "source": [
    "preds = model(images)"
   ]
  },
  {
   "cell_type": "code",
   "execution_count": 18,
   "id": "e2fe9174",
   "metadata": {},
   "outputs": [
    {
     "data": {
      "text/plain": [
       "TensorShape([25, 5])"
      ]
     },
     "execution_count": 18,
     "metadata": {},
     "output_type": "execute_result"
    }
   ],
   "source": [
    "preds.shape"
   ]
  },
  {
   "cell_type": "code",
   "execution_count": 21,
   "id": "28d08b06",
   "metadata": {},
   "outputs": [
    {
     "data": {
      "text/plain": [
       "<tf.Tensor: shape=(25,), dtype=float32, numpy=\n",
       "array([1.9235716 , 3.3748648 , 1.0147865 , 3.0546052 , 1.0147865 ,\n",
       "       0.6430838 , 0.99476004, 2.2709763 , 1.0219028 , 1.4968102 ,\n",
       "       2.097036  , 1.671476  , 1.972186  , 1.9084604 , 1.9192832 ,\n",
       "       3.0546052 , 2.9377275 , 1.4968102 , 1.3239068 , 1.5131507 ,\n",
       "       1.0227842 , 1.972186  , 1.5535084 , 1.1110704 , 3.374865  ],\n",
       "      dtype=float32)>"
      ]
     },
     "execution_count": 21,
     "metadata": {},
     "output_type": "execute_result"
    }
   ],
   "source": [
    "keras.losses.sparse_categorical_crossentropy(labels, preds)"
   ]
  },
  {
   "cell_type": "code",
   "execution_count": null,
   "id": "e3c34e08",
   "metadata": {},
   "outputs": [],
   "source": []
  }
 ],
 "metadata": {
  "kernelspec": {
   "display_name": "Python 3 (ipykernel)",
   "language": "python",
   "name": "python3"
  },
  "language_info": {
   "codemirror_mode": {
    "name": "ipython",
    "version": 3
   },
   "file_extension": ".py",
   "mimetype": "text/x-python",
   "name": "python",
   "nbconvert_exporter": "python",
   "pygments_lexer": "ipython3",
   "version": "3.9.12"
  }
 },
 "nbformat": 4,
 "nbformat_minor": 5
}
